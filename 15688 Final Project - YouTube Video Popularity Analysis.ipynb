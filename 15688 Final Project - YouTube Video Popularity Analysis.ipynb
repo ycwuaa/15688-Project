{
 "cells": [
  {
   "cell_type": "code",
   "execution_count": 1,
   "metadata": {},
   "outputs": [],
   "source": [
    "# setup library imports\n",
    "import pandas as pd\n",
    "import re\n",
    "import numpy as np\n",
    "import matplotlib\n",
    "import matplotlib.pyplot as plt\n",
    "plt.style.use('ggplot')\n",
    "# AUTOLAB_IGNORE_START\n",
    "%matplotlib inline\n",
    "# AUTOLAB_IGNORE_STOP\n",
    "import scipy as sp\n",
    "from scipy import special\n",
    "import scipy.stats as stats\n",
    "from datetime import datetime"
   ]
  },
  {
   "cell_type": "markdown",
   "metadata": {},
   "source": [
    "# Introduction"
   ]
  },
  {
   "cell_type": "markdown",
   "metadata": {},
   "source": [
    "In this project, we will analyze the popularity of YouTube videos. We define the popularity of YouTube videos by total view counts. Our goal is to determine the correlations between video popularity and various video attributes. Also, we will use these features to predict video popularity and analyze the real-life implication of the results."
   ]
  },
  {
   "cell_type": "markdown",
   "metadata": {},
   "source": [
    "# Table of Contents"
   ]
  },
  {
   "cell_type": "markdown",
   "metadata": {},
   "source": [
    "* [Data Collection](#section_One)\n",
    "* [Data Processing & Visualization](#section_Two)\n",
    "* [Feature Selection](#section_Three)\n",
    "* [Prediction Results](#section_Four)\n",
    "* [Conclusion](#section_Five)\n",
    "* [References](#section_Six)"
   ]
  },
  {
   "cell_type": "markdown",
   "metadata": {},
   "source": [
    "<a id=\"section_One\"></a>\n",
    "# Data Collection"
   ]
  },
  {
   "cell_type": "markdown",
   "metadata": {},
   "source": [
    "We utilize [YoutTube Data API v3](https://developers.google.com/youtube/v3/getting-started) to collect information needed to perform our analysis. For analysis purpose, we restricted data to videos with region code set as the United States. Below is the steps we went through for collecting data:\n",
    "\n",
    "- Search for videos with region code 'US'. \n",
    "- For each retrieved video, search the channel information and detailed video information by establishing separate queries. "
   ]
  },
  {
   "cell_type": "code",
   "execution_count": 2,
   "metadata": {},
   "outputs": [],
   "source": [
    "from apiclient.discovery import build\n",
    "from apiclient.errors import HttpError\n",
    "from oauth2client.tools import argparser\n",
    "import pandas as pd\n",
    "import pprint \n",
    "import matplotlib.pyplot as pd\n",
    "import pprint\n",
    "from pandas.io.json import json_normalize \n",
    "\n",
    "pp = pprint.PrettyPrinter(indent=4)\n",
    "\n",
    "\n",
    "# Information needed to setup authentication to use YouTube API. \n",
    "DEVELOPER_KEY = \"this is your YouTube API KEY\"\n",
    "YOUTUBE_API_SERVICE_NAME = \"youtube\"\n",
    "YOUTUBE_API_VERSION = \"v3\"\n",
    "\n",
    "\n",
    "\"\"\"\n",
    "This function performs the \"search\" step for videos with region code 'US'. \n",
    "\n",
    "Args:\n",
    "    max_results (int): The max results a single search query returns (parameter passed to Youtube API). \n",
    "                       Default is 50. \n",
    "    order (string): Parameter passed to API to specify the search result return order. \n",
    "                    Default is relevance which means result videos are sorted by how relevant they are to our query. \n",
    "    token (string): Since the search results may be too large to return at once, they are saprated into pages. \n",
    "                    One page is returned every time. token is used to inform which page we are asking for. \n",
    "                    Default is None and would get the first page. \n",
    "\n",
    "Returns:\n",
    "    next_page (string): page token which refers to next page\n",
    "    df (pandas.DataFrame): dataframe containing videos as the row with columns indicating information of the videos\n",
    "\"\"\"\n",
    "def youtube_fectchUS(max_results=50,order=\"relevance\", token=None, location=None,\n",
    "                     location_radius=None, query_term=None):\n",
    "\n",
    "    youtube = build(YOUTUBE_API_SERVICE_NAME, YOUTUBE_API_VERSION,developerKey=DEVELOPER_KEY)\n",
    "\n",
    "    search_response = youtube.search().list(\n",
    "    q=query_term,\n",
    "    type=\"video\",\n",
    "    pageToken=token,\n",
    "    order = order,\n",
    "    part=\"id,snippet\",\n",
    "    maxResults=max_results,\n",
    "    location=location,\n",
    "    locationRadius=location_radius, \n",
    "    regionCode='US').execute()\n",
    "\n",
    "    next_page = search_response.get(\"nextPageToken\")\n",
    "    \n",
    "    result = search_response.get(\"items\", [])\n",
    "    \n",
    "    df = json_normalize(result)\n",
    "    return next_page, df\n",
    "\n",
    "\"\"\"\n",
    "This function helps to retrievce channel related information. \n",
    "\n",
    "Args:\n",
    "    id (string): Youtube channel ID (retrieved using previous youtube_fectchUS function). \n",
    "    \n",
    "Returns:\n",
    "    channel_info (json): Youtube API json result for channel information. \n",
    "\"\"\"\n",
    "def channel_info(id):\n",
    "    \n",
    "    youtube = build(YOUTUBE_API_SERVICE_NAME, YOUTUBE_API_VERSION,developerKey=DEVELOPER_KEY)\n",
    "    \n",
    "    channel_info = youtube.channels().list(\n",
    "        \n",
    "        part='snippet,contentDetails,statistics',\n",
    "        id=id\n",
    "    ).execute()\n",
    "    \n",
    "    return channel_info\n",
    "\n",
    "\"\"\"\n",
    "This function helps to retrieve more detailed information of video. \n",
    "\n",
    "Args:\n",
    "    id (string): Youtube video ID (retrieved using previous youtube_fectchUS function). \n",
    "    \n",
    "Returns:\n",
    "    video_info (json): Youtube API json result for video information. \n",
    "\"\"\"\n",
    "def video_info(id):\n",
    "    \n",
    "    youtube = build(YOUTUBE_API_SERVICE_NAME, YOUTUBE_API_VERSION,developerKey=DEVELOPER_KEY)\n",
    "    \n",
    "    video_info = youtube.videos().list(\n",
    "                    \n",
    "        part='statistics, contentDetails,snippet',\n",
    "        id=id\n",
    "    ).execute()\n",
    "    \n",
    "    return video_info"
   ]
  },
  {
   "cell_type": "markdown",
   "metadata": {},
   "source": [
    "We fetch search result page by page and append the dataframes together. The search result could return entries other than video so we perform filtering on 'kind' to make sure all entries is desired results."
   ]
  },
  {
   "cell_type": "code",
   "execution_count": 3,
   "metadata": {},
   "outputs": [
    {
     "name": "stdout",
     "output_type": "stream",
     "text": [
      "356\n",
      "                                                etag        id.kind  \\\n",
      "0  \"95M1zlW0txkV42I4OG1Zscxrg5A/L0GzIMNHW11RstSRa...  youtube#video   \n",
      "1  \"95M1zlW0txkV42I4OG1Zscxrg5A/hV5gq7R8vy2iOSs_i...  youtube#video   \n",
      "2  \"95M1zlW0txkV42I4OG1Zscxrg5A/PYUayVh6hBol2xJip...  youtube#video   \n",
      "3  \"95M1zlW0txkV42I4OG1Zscxrg5A/SP-JetN-x3KWocnKT...  youtube#video   \n",
      "4  \"95M1zlW0txkV42I4OG1Zscxrg5A/gnnoL97DCc0rABuCC...  youtube#video   \n",
      "\n",
      "    id.videoId                  kind         snippet.channelId  \\\n",
      "0  q2sI-T69sjs  youtube#searchResult  UCqFzWxSCi39LnW1JKFR3efg   \n",
      "1  2KRTYMxPWJw  youtube#searchResult  UCiWLfSweyRNmLpgEHekhoAg   \n",
      "2  astISOttCQ0  youtube#searchResult  UCLoKWb_rlp80mg0aSLtsUGw   \n",
      "3  -RP19fnff_c  youtube#searchResult  UCWEtnEiVwUy7mwFeshyAWLA   \n",
      "4  3bUSA5HNjX8  youtube#searchResult  UCMc_udNCbogsweA2o58knww   \n",
      "\n",
      "  snippet.channelTitle                                snippet.description  \\\n",
      "0  Saturday Night Live  Friends (Donald Glover, Cecily Strong, Kenan T...   \n",
      "1                 ESPN  First Take's Stephen A. Smith and Max Kellerma...   \n",
      "2    icanrockyourworld  SHOP at http://www.GUMMYBEARSHOP.com Subscribe...   \n",
      "3                RHINO  The official video for The Chipettes \"Single L...   \n",
      "4     Fortnite Central  HAVE YOU FOUND THE NEW LEGENDARY CHEST YET!? *...   \n",
      "\n",
      "  snippet.liveBroadcastContent       snippet.publishedAt  \\\n",
      "0                         none  2018-05-06T06:21:21.000Z   \n",
      "1                         none  2018-05-07T15:47:49.000Z   \n",
      "2                         none  2007-10-09T20:54:01.000Z   \n",
      "3                         none  2010-08-04T00:49:30.000Z   \n",
      "4                         live  2017-11-25T14:51:35.000Z   \n",
      "\n",
      "   snippet.thumbnails.default.height  \\\n",
      "0                                 90   \n",
      "1                                 90   \n",
      "2                                 90   \n",
      "3                                 90   \n",
      "4                                 90   \n",
      "\n",
      "                      snippet.thumbnails.default.url  \\\n",
      "0     https://i.ytimg.com/vi/q2sI-T69sjs/default.jpg   \n",
      "1     https://i.ytimg.com/vi/2KRTYMxPWJw/default.jpg   \n",
      "2     https://i.ytimg.com/vi/astISOttCQ0/default.jpg   \n",
      "3     https://i.ytimg.com/vi/-RP19fnff_c/default.jpg   \n",
      "4  https://i.ytimg.com/vi/3bUSA5HNjX8/default_liv...   \n",
      "\n",
      "   snippet.thumbnails.default.width  snippet.thumbnails.high.height  \\\n",
      "0                               120                             360   \n",
      "1                               120                             360   \n",
      "2                               120                             360   \n",
      "3                               120                             360   \n",
      "4                               120                             360   \n",
      "\n",
      "                         snippet.thumbnails.high.url  \\\n",
      "0   https://i.ytimg.com/vi/q2sI-T69sjs/hqdefault.jpg   \n",
      "1   https://i.ytimg.com/vi/2KRTYMxPWJw/hqdefault.jpg   \n",
      "2   https://i.ytimg.com/vi/astISOttCQ0/hqdefault.jpg   \n",
      "3   https://i.ytimg.com/vi/-RP19fnff_c/hqdefault.jpg   \n",
      "4  https://i.ytimg.com/vi/3bUSA5HNjX8/hqdefault_l...   \n",
      "\n",
      "   snippet.thumbnails.high.width  snippet.thumbnails.medium.height  \\\n",
      "0                            480                               180   \n",
      "1                            480                               180   \n",
      "2                            480                               180   \n",
      "3                            480                               180   \n",
      "4                            480                               180   \n",
      "\n",
      "                       snippet.thumbnails.medium.url  \\\n",
      "0   https://i.ytimg.com/vi/q2sI-T69sjs/mqdefault.jpg   \n",
      "1   https://i.ytimg.com/vi/2KRTYMxPWJw/mqdefault.jpg   \n",
      "2   https://i.ytimg.com/vi/astISOttCQ0/mqdefault.jpg   \n",
      "3   https://i.ytimg.com/vi/-RP19fnff_c/mqdefault.jpg   \n",
      "4  https://i.ytimg.com/vi/3bUSA5HNjX8/mqdefault_l...   \n",
      "\n",
      "   snippet.thumbnails.medium.width  \\\n",
      "0                              320   \n",
      "1                              320   \n",
      "2                              320   \n",
      "3                              320   \n",
      "4                              320   \n",
      "\n",
      "                                       snippet.title  \n",
      "0                                A Kanye Place - SNL  \n",
      "1  Stephen A. and Max react to Celtics defeating ...  \n",
      "2         The Gummy Bear Song - Long English Version  \n",
      "3   The Chipettes - Single Ladies [Put A Ring On It]  \n",
      "4  HAVE YOU FOUND THE NEW LEGENDARY CHEST YET!? *...  \n"
     ]
    }
   ],
   "source": [
    "cur_page = None\n",
    "df_list = []\n",
    "# Here, the query term is \"a\" for display purposes. \n",
    "q_list = ['a']\n",
    "for j in q_list:\n",
    "    next_page, df = youtube_fectchUS(query_term = j, token = cur_page)\n",
    "    df_list.append(df)\n",
    "    cur_page = next_page\n",
    "    while cur_page is not None:\n",
    "        next_page, df = youtube_fectchUS(query_term = j, token = cur_page)\n",
    "        df_list.append(df)\n",
    "        cur_page = next_page\n",
    "\n",
    "df = df_list[0]\n",
    "\n",
    "for cur_df in df_list[1:]:\n",
    "    \n",
    "    df = df.append(cur_df, ignore_index=True)\n",
    "    \n",
    "df = df.loc[df['id.kind'] == 'youtube#video']\n",
    "\n",
    "print(df['etag'].count())\n",
    "print(df.head(5))"
   ]
  },
  {
   "cell_type": "markdown",
   "metadata": {},
   "source": [
    "For each video retrieved, we fetched their channel information using the channel IDs."
   ]
  },
  {
   "cell_type": "code",
   "execution_count": 4,
   "metadata": {},
   "outputs": [],
   "source": [
    "channelid_list  = df['snippet.channelId']\n",
    "channel_info_list = channelid_list.apply(channel_info)\n",
    "channel_df = json_normalize(list(channel_info_list))\n",
    "\n",
    "channelViewCount = channel_df['items'].apply(lambda x: x[0]['statistics']['viewCount']\n",
    "                                             if len(x) != 0 and len(x[0]) !=0 else None)\n",
    "channelCommentCount = channel_df['items'].apply(lambda x: x[0]['statistics']['commentCount']\n",
    "                                               if len(x) != 0 and len(x[0]) !=0 else None)\n",
    "channelSubscribe = channel_df['items'].apply(lambda x: x[0]['statistics']['subscriberCount']\n",
    "                                            if len(x) != 0 and len(x[0]) !=0 else None)\n",
    "channelVideo = channel_df['items'].apply(lambda x: x[0]['statistics']['videoCount']\n",
    "                                        if len(x) != 0 and len(x[0]) !=0 else None)\n",
    "\n",
    "final_df = df.assign(channel_viewcount = channelViewCount)\n",
    "final_df = final_df.assign(channel_commentcount = channelCommentCount)\n",
    "final_df = final_df.assign(channel_subscribe = channelSubscribe)\n",
    "final_df = final_df.assign(channel_videocount = channelVideo)"
   ]
  },
  {
   "cell_type": "markdown",
   "metadata": {},
   "source": [
    "Then, to obtain more detailed information for each video, we asked for video lists based on the video IDs."
   ]
  },
  {
   "cell_type": "code",
   "execution_count": 5,
   "metadata": {},
   "outputs": [
    {
     "name": "stdout",
     "output_type": "stream",
     "text": [
      "['etag' 'id.kind' 'id.videoId' 'kind' 'snippet.channelId'\n",
      " 'snippet.channelTitle' 'snippet.description'\n",
      " 'snippet.liveBroadcastContent' 'snippet.publishedAt'\n",
      " 'snippet.thumbnails.default.height' 'snippet.thumbnails.default.url'\n",
      " 'snippet.thumbnails.default.width' 'snippet.thumbnails.high.height'\n",
      " 'snippet.thumbnails.high.url' 'snippet.thumbnails.high.width'\n",
      " 'snippet.thumbnails.medium.height' 'snippet.thumbnails.medium.url'\n",
      " 'snippet.thumbnails.medium.width' 'snippet.title' 'channel.viewcount'\n",
      " 'channel.commentcount' 'channel.subscribe' 'channel.videocount'\n",
      " 'video.commentCount' 'video.dislikeCount' 'video.favoriteCount'\n",
      " 'video.likeCount' 'video.tags' 'video.categoryId' 'video.def'\n",
      " 'video.duration' 'video.viewCount']\n",
      "                                                etag        id.kind  \\\n",
      "0  \"95M1zlW0txkV42I4OG1Zscxrg5A/L0GzIMNHW11RstSRa...  youtube#video   \n",
      "1  \"95M1zlW0txkV42I4OG1Zscxrg5A/hV5gq7R8vy2iOSs_i...  youtube#video   \n",
      "2  \"95M1zlW0txkV42I4OG1Zscxrg5A/PYUayVh6hBol2xJip...  youtube#video   \n",
      "3  \"95M1zlW0txkV42I4OG1Zscxrg5A/SP-JetN-x3KWocnKT...  youtube#video   \n",
      "4  \"95M1zlW0txkV42I4OG1Zscxrg5A/gnnoL97DCc0rABuCC...  youtube#video   \n",
      "\n",
      "    id.videoId                  kind         snippet.channelId  \\\n",
      "0  q2sI-T69sjs  youtube#searchResult  UCqFzWxSCi39LnW1JKFR3efg   \n",
      "1  2KRTYMxPWJw  youtube#searchResult  UCiWLfSweyRNmLpgEHekhoAg   \n",
      "2  astISOttCQ0  youtube#searchResult  UCLoKWb_rlp80mg0aSLtsUGw   \n",
      "3  -RP19fnff_c  youtube#searchResult  UCWEtnEiVwUy7mwFeshyAWLA   \n",
      "4  3bUSA5HNjX8  youtube#searchResult  UCMc_udNCbogsweA2o58knww   \n",
      "\n",
      "  snippet.channelTitle                                snippet.description  \\\n",
      "0  Saturday Night Live  Friends (Donald Glover, Cecily Strong, Kenan T...   \n",
      "1                 ESPN  First Take's Stephen A. Smith and Max Kellerma...   \n",
      "2    icanrockyourworld  SHOP at http://www.GUMMYBEARSHOP.com Subscribe...   \n",
      "3                RHINO  The official video for The Chipettes \"Single L...   \n",
      "4     Fortnite Central  HAVE YOU FOUND THE NEW LEGENDARY CHEST YET!? *...   \n",
      "\n",
      "  snippet.liveBroadcastContent       snippet.publishedAt  \\\n",
      "0                         none  2018-05-06T06:21:21.000Z   \n",
      "1                         none  2018-05-07T15:47:49.000Z   \n",
      "2                         none  2007-10-09T20:54:01.000Z   \n",
      "3                         none  2010-08-04T00:49:30.000Z   \n",
      "4                         live  2017-11-25T14:51:35.000Z   \n",
      "\n",
      "   snippet.thumbnails.default.height       ...       channel.videocount  \\\n",
      "0                                 90       ...                     6380   \n",
      "1                                 90       ...                    12466   \n",
      "2                                 90       ...                        8   \n",
      "3                                 90       ...                      977   \n",
      "4                                 90       ...                        0   \n",
      "\n",
      "   video.commentCount  video.dislikeCount video.favoriteCount  \\\n",
      "0                4181                4339                   0   \n",
      "1                 527                  41                   0   \n",
      "2              216354              724798                   0   \n",
      "3               30830              172399                   0   \n",
      "4                  11               86457                   0   \n",
      "\n",
      "   video.likeCount                                         video.tags  \\\n",
      "0            89967  [SNL, Saturday Night Live, SNL Season 43, SNL ...   \n",
      "1             1335  [espn, espn live, 76ers, philadelphia 76ers, c...   \n",
      "2          2328625  [gummy, bear, song, gummi, gummybear, am, i'm,...   \n",
      "3           829160  [The Chipettes, Soundtrack, Single Ladies, Put...   \n",
      "4           194705  [Best Fortnite Funny Moments & Fails + New Sni...   \n",
      "\n",
      "  video.categoryId  video.def video.duration video.viewCount  \n",
      "0               24         hd        PT3M36S         4160462  \n",
      "1               17         hd        PT5M40S           86061  \n",
      "2                1         sd        PT2M44S      1340364449  \n",
      "3               10         sd         PT3M3S       452255767  \n",
      "4               20         sd           PT0S        24521416  \n",
      "\n",
      "[5 rows x 32 columns]\n"
     ]
    }
   ],
   "source": [
    "videoid_list = df['id.videoId']\n",
    "video_info_list = videoid_list.apply(video_info)\n",
    "video_df = json_normalize(list(video_info_list))\n",
    "\n",
    "videoCommentCount = video_df['items'].apply(\n",
    "    lambda x: x[0]['statistics']['commentCount'] if len(x) != 0 and len(x[0]) !=0 and\n",
    "    'commentCount' in x[0]['statistics'].keys() else None)\n",
    "videoDislikeCount = video_df['items'].apply(\n",
    "    lambda x: x[0]['statistics']['dislikeCount'] if len(x) != 0 and len(x[0]) !=0 and\n",
    "    'dislikeCount' in x[0]['statistics'].keys() else None)\n",
    "videoFavoriteCount = video_df['items'].apply(\n",
    "    lambda x: x[0]['statistics']['favoriteCount'] if len(x) != 0 and len(x[0]) !=0 and\n",
    "    'favoriteCount' in x[0]['statistics'].keys() else None)\n",
    "videoLikeCount = video_df['items'].apply(\n",
    "    lambda x: x[0]['statistics']['likeCount'] if len(x) != 0 and len(x[0]) !=0 and\n",
    "    'likeCount' in x[0]['statistics'].keys() else None)\n",
    "videoViewCount = video_df['items'].apply(\n",
    "    lambda x: x[0]['statistics']['viewCount'] if len(x) != 0 and len(x[0]) !=0 and\n",
    "    'viewCount' in x[0]['statistics'].keys() else None)\n",
    "videoTags = video_df['items'].apply(\n",
    "    lambda x: x[0]['snippet']['tags'] if len(x) != 0 and len(x[0]) !=0 and\n",
    "    'tags' in x[0]['snippet'].keys() else None)\n",
    "videoCategory = video_df['items'].apply(\n",
    "    lambda x: x[0]['snippet']['categoryId'] if len(x) != 0 and len(x[0]) !=0 and\n",
    "    'categoryId' in x[0]['snippet'].keys() else None)\n",
    "videoDef = video_df['items'].apply(\n",
    "    lambda x: x[0]['contentDetails']['definition'] if len(x) != 0 and len(x[0]) !=0 and\n",
    "    'definition' in x[0]['contentDetails'].keys() else None)\n",
    "videoDuration = video_df['items'].apply(\n",
    "    lambda x: x[0]['contentDetails']['duration'] if len(x) != 0 and len(x[0]) !=0 and\n",
    "    'duration' in x[0]['contentDetails'].keys() else None)\n",
    "\n",
    "final_df = final_df.assign(video_commentCount = videoCommentCount)\n",
    "final_df = final_df.assign(video_dislikeCount = videoDislikeCount)\n",
    "final_df = final_df.assign(video_favoriteCount = videoFavoriteCount)\n",
    "final_df = final_df.assign(video_likeCount = videoLikeCount)\n",
    "final_df = final_df.assign(video_tags = videoTags)\n",
    "final_df = final_df.assign(video_categoryId = videoCategory)\n",
    "final_df = final_df.assign(video_def = videoDef)\n",
    "final_df = final_df.assign(video_duration = videoDuration)\n",
    "final_df = final_df.assign(video_viewCount = videoViewCount)\n",
    "\n",
    "final_df.columns = [c.replace('_', '.') for c in final_df.columns]\n",
    "print(final_df.columns.values)\n",
    "print(final_df.head(5))"
   ]
  },
  {
   "cell_type": "markdown",
   "metadata": {},
   "source": [
    "We go through this process for each page of our query results until we reach the last page and finally, we save the results to a csv file."
   ]
  },
  {
   "cell_type": "code",
   "execution_count": 6,
   "metadata": {},
   "outputs": [
    {
     "name": "stdout",
     "output_type": "stream",
     "text": [
      "None\n"
     ]
    }
   ],
   "source": [
    "print(cur_page)\n",
    "final_df.to_csv('finaldata_test.csv')"
   ]
  },
  {
   "cell_type": "markdown",
   "metadata": {},
   "source": [
    "<a id=\"section_Two\"></a>\n",
    "# Data Processing & Visualization"
   ]
  },
  {
   "cell_type": "markdown",
   "metadata": {},
   "source": [
    "Here, we are going to process the collected data before visualizing each feature of YouTube videos.\n",
    "\n",
    "Firstly, we load data from .CSV file into dateframe. Our data processing consists of three parts: data cleaning, data reduction, and data transformation. For the data cleaning part, we fill in missing values with NaN and drop records with NaN values. For data reduction, we drop duplicates and get a cleaned dataframe with 10144 unique records, each with 32 features."
   ]
  },
  {
   "cell_type": "code",
   "execution_count": 13,
   "metadata": {},
   "outputs": [
    {
     "name": "stdout",
     "output_type": "stream",
     "text": [
      "(10144, 32)\n",
      "['etag' 'id.kind' 'id.videoId' 'kind' 'snippet.channelId'\n",
      " 'snippet.channelTitle' 'snippet.description'\n",
      " 'snippet.liveBroadcastContent' 'snippet.publishedAt'\n",
      " 'snippet.thumbnails.default.height' 'snippet.thumbnails.default.url'\n",
      " 'snippet.thumbnails.default.width' 'snippet.thumbnails.high.height'\n",
      " 'snippet.thumbnails.high.url' 'snippet.thumbnails.high.width'\n",
      " 'snippet.thumbnails.medium.height' 'snippet.thumbnails.medium.url'\n",
      " 'snippet.thumbnails.medium.width' 'snippet.title' 'channel.viewcount'\n",
      " 'channel.commentcount' 'channel.subscribe' 'channel.videocount'\n",
      " 'video.commentCount' 'video.dislikeCount' 'video.favoriteCount'\n",
      " 'video.likeCount' 'video.tags' 'video.categoryId' 'video.def'\n",
      " 'video.duration' 'video.viewCount']\n"
     ]
    }
   ],
   "source": [
    "df = pd.read_csv('final_data.csv', encoding = 'latin1', index_col=0)\n",
    "df = df.replace('', np.nan)\n",
    "df = df.dropna(how='any')\n",
    "df = df.drop_duplicates('id.videoId')\n",
    "print(df.shape)\n",
    "print(df.columns.values)"
   ]
  },
  {
   "cell_type": "markdown",
   "metadata": {},
   "source": [
    "## Data Processing Methods"
   ]
  },
  {
   "cell_type": "markdown",
   "metadata": {},
   "source": [
    "We perform the following data transformations on both the target and feature variables:\n",
    "- series_tologit: normalize features, then process the features by logit, replace (positive and negative) infinity with NaN plot a histogram of features after dropping NaN.\n",
    "- series_probplot: plot a histogram of features after processing z-normalization."
   ]
  },
  {
   "cell_type": "code",
   "execution_count": 79,
   "metadata": {},
   "outputs": [],
   "source": [
    "\"\"\"\n",
    "This function takes in a series representing a feature and then convert it using logit function. \n",
    "It keeps NaN values for future processing purpose (straightly dropping these entries would result\n",
    "in mismatch for dataframe)\n",
    "\"\"\"\n",
    "\n",
    "def series_tologit(feature):\n",
    "    \n",
    "    feature = (feature - feature.min()) / (feature.max() - feature.min())\n",
    "    logit_f = special.logit(feature)\n",
    "    logit_f = logit_f.replace([np.inf, -np.inf], np.nan)\n",
    "    plt.hist(logit_f.dropna(), bins=50)\n",
    "    plt.show()\n",
    "    \n",
    "    return logit_f\n",
    "\n",
    "def series_probplot(feature):\n",
    "    \n",
    "    stats.probplot((feature - np.mean(feature))/np.std(feature),plot=plt)\n",
    "    plt.show()"
   ]
  },
  {
   "cell_type": "markdown",
   "metadata": {},
   "source": [
    "## Target Variable for Prediction"
   ]
  },
  {
   "cell_type": "markdown",
   "metadata": {},
   "source": [
    "### Video View Count"
   ]
  },
  {
   "cell_type": "markdown",
   "metadata": {},
   "source": [
    "We use view count as the measure for video popularity. Three possible candidates to represent popularity are: like count, dislike count and view count. Among these, we choose view count since like and dislike count are proportional to total view counts. After we processed the view count data, it fits the normal distribution and is ideal for our following feature analysis."
   ]
  },
  {
   "cell_type": "code",
   "execution_count": 15,
   "metadata": {},
   "outputs": [
    {
     "data": {
      "image/png": "[encoded data removed]",
      "text/plain": [
       "<matplotlib.figure.Figure at 0x10f97b6d8>"
      ]
     },
     "metadata": {},
     "output_type": "display_data"
    },
    {
     "data": {
      "image/png": "[encoded data removed]",
      "text/plain": [
       "<matplotlib.figure.Figure at 0x1118edb70>"
      ]
     },
     "metadata": {},
     "output_type": "display_data"
    }
   ],
   "source": [
    "plt.hist(df['video.viewCount'], bins=25)\n",
    "plt.axis([0, np.max(df['video.viewCount']), 0, 10000])\n",
    "plt.show()\n",
    "series_probplot(df['video.viewCount'])"
   ]
  },
  {
   "cell_type": "code",
   "execution_count": 16,
   "metadata": {},
   "outputs": [
    {
     "data": {
      "image/png": "[encoded data removed]",
      "text/plain": [
       "<matplotlib.figure.Figure at 0x10efa2358>"
      ]
     },
     "metadata": {},
     "output_type": "display_data"
    },
    {
     "data": {
      "image/png": "[encoded data removed]",
      "text/plain": [
       "<matplotlib.figure.Figure at 0x10f3d5f60>"
      ]
     },
     "metadata": {},
     "output_type": "display_data"
    }
   ],
   "source": [
    "logit_video_viewcount = series_tologit(df['video.viewCount'])\n",
    "series_probplot(logit_video_viewcount.dropna())"
   ]
  },
  {
   "cell_type": "markdown",
   "metadata": {},
   "source": [
    "## Feature Analysis Method"
   ]
  },
  {
   "cell_type": "markdown",
   "metadata": {},
   "source": [
    "We will use the random forest regression model to analyze the features. Random Forest is a supervised learning algorithm. It forms multiple decision trees and merges all the decision trees together to get a more accurate and stable prediction. The randomness means that this algorithm searches for the best feature among a random subset of features when developing the decision trees. This process creates a wider diversity and generally results a more accurate model for prediction. For this reason, we will perform the random forest regression on all of the 13 features."
   ]
  },
  {
   "cell_type": "markdown",
   "metadata": {},
   "source": [
    "We will evaluate the R² score of the cross validation results for the 13 features to make an initial analysis on which feature might be more important for the prediction. The formula for R² score is as follows:"
   ]
  },
  {
   "cell_type": "markdown",
   "metadata": {},
   "source": [
    "\\begin{equation*}\n",
    "R^2(y, \\hat{y}) = 1-\\frac{\\sum_{i=0}^{n_{samples}-1}({y_i-\\hat{y_i}})^2}{\\sum_{i=0}^{n_{samples}-1}({y_i-\\bar{y}})^2}\n",
    "\\end{equation*}"
   ]
  },
  {
   "cell_type": "markdown",
   "metadata": {},
   "source": [
    "${y}_i$ refers to the true value of the i-th sample <br>\n",
    "$\\hat{y}_i$ refers to the predicted value of the i-th sample <br>\n",
    "$\\bar{y}$ refers to the expected value of y\n",
    "\n",
    "R² score provides a measure of how well future samples are likely to be predicted by the model. The best possible score is 1.0 and it can be negative. If the R² score is larger than 0.0, this means the model performs better than the baseline of using the expected value of y for prediction.\n",
    "\n",
    "The following function will be used to perform the random forest regressor and evaluate the R² score for each feature."
   ]
  },
  {
   "cell_type": "code",
   "execution_count": 73,
   "metadata": {},
   "outputs": [],
   "source": [
    "from sklearn.cross_validation import cross_val_score, ShuffleSplit\n",
    "from sklearn.ensemble import RandomForestRegressor\n",
    "\n",
    "\"\"\"\n",
    "This function takes in a feature array that contains all feature,\n",
    "a target_array than contains video view count and the name for this feature.\n",
    "It returns the r2 score for cross validation and the name of the feature. \n",
    "\"\"\"\n",
    "\n",
    "def rfr_per_feature(feature_array, target_array, name = None):\n",
    "    \n",
    "    col_list = [feature_array, target_array]\n",
    "    new_df = pd.concat(col_list, axis=1)\n",
    "    new_df = new_df.dropna()\n",
    "    feature = new_df.drop(['video.viewCount'], axis=1)\n",
    "    target = new_df['video.viewCount']\n",
    "    rf = RandomForestRegressor(random_state=1, n_estimators=20, max_depth=4)\n",
    "    score = cross_val_score(rf, feature, target, scoring='r2', cv=ShuffleSplit(len(feature), 10, .1))\n",
    "    print((round(np.mean(score), 3), name))"
   ]
  },
  {
   "cell_type": "markdown",
   "metadata": {},
   "source": [
    "## Feature Variable for Prediction (13 features in total)"
   ]
  },
  {
   "cell_type": "markdown",
   "metadata": {},
   "source": [
    "### Video Duration"
   ]
  },
  {
   "cell_type": "markdown",
   "metadata": {},
   "source": [
    "In this section, we will analyze the correlation of video duration and the popularity of videos. First, we start from processing the raw data of video length. The original video length value is an ISO 8601 duration and we use the following function to convert it into seconds."
   ]
  },
  {
   "cell_type": "markdown",
   "metadata": {},
   "source": [
    "Then we process the data to get the logit representation of the video duration feature."
   ]
  },
  {
   "cell_type": "code",
   "execution_count": 20,
   "metadata": {},
   "outputs": [],
   "source": [
    "duration_list = []\n",
    "for each_duration in df['video.duration']:\n",
    "    duration_list.append(durationToSeconds(each_duration))\n",
    "df['video.lengthInSec'] = duration_list"
   ]
  },
  {
   "cell_type": "code",
   "execution_count": 21,
   "metadata": {},
   "outputs": [
    {
     "data": {
      "image/png": "[encoded data removed]",
      "text/plain": [
       "<matplotlib.figure.Figure at 0x10f5c7c18>"
      ]
     },
     "metadata": {},
     "output_type": "display_data"
    }
   ],
   "source": [
    "logit_video_duration = series_tologit(df['video.lengthInSec'])"
   ]
  },
  {
   "cell_type": "markdown",
   "metadata": {},
   "source": [
    "Finally, we use the random forest regressor to view the R² score for video duration. The score is larger than zero, which means there are some correlation between total view counts and video length. As we can see from the plot, video view counts are larger when the video duration is shorter."
   ]
  },
  {
   "cell_type": "code",
   "execution_count": 22,
   "metadata": {},
   "outputs": [
    {
     "name": "stdout",
     "output_type": "stream",
     "text": [
      "(0.20999999999999999, 'video duration')\n"
     ]
    },
    {
     "data": {
      "image/png": "[encoded data removed]",
      "text/plain": [
       "<matplotlib.figure.Figure at 0x10f5615c0>"
      ]
     },
     "metadata": {},
     "output_type": "display_data"
    }
   ],
   "source": [
    "rfr_per_feature(logit_video_duration, logit_video_viewcount, name=\"video duration\")\n",
    "plt.scatter(df['video.lengthInSec'], df['video.viewCount'])\n",
    "plt.show()"
   ]
  },
  {
   "cell_type": "markdown",
   "metadata": {},
   "source": [
    "### Video Number of Days Published"
   ]
  },
  {
   "cell_type": "markdown",
   "metadata": {},
   "source": [
    "Here, we discuss when were the videos uploaded and the video days old to see how this feature will affect the total view count. First, we process the data and create the logit representation for video days old."
   ]
  },
  {
   "cell_type": "code",
   "execution_count": 23,
   "metadata": {},
   "outputs": [],
   "source": [
    "published_time = []\n",
    "no_of_days_published = []\n",
    "time_list = df[\"snippet.publishedAt\"].tolist()\n",
    "for each_time in time_list:\n",
    "    published_time.append(datetime.strptime(each_time, \"%Y-%m-%dT%H:%M:%S.%fZ\"))\n",
    "current_time = datetime.now()\n",
    "for each_publish_time in published_time:\n",
    "    no_of_days_published.append((datetime.now() - each_publish_time).days)\n",
    "df['no_of_days_published'] = no_of_days_published"
   ]
  },
  {
   "cell_type": "code",
   "execution_count": 24,
   "metadata": {},
   "outputs": [
    {
     "data": {
      "image/png": "[encoded data removed]",
      "text/plain": [
       "<matplotlib.figure.Figure at 0x1110e1da0>"
      ]
     },
     "metadata": {},
     "output_type": "display_data"
    }
   ],
   "source": [
    "logit_video_days_old = series_tologit(df['no_of_days_published'])"
   ]
  },
  {
   "cell_type": "markdown",
   "metadata": {},
   "source": [
    "Then we use the random forest regressor on this feature, the score is rather significant. This can also be proved from the following plot, which shows total view count will increase as number of days published increases."
   ]
  },
  {
   "cell_type": "code",
   "execution_count": 25,
   "metadata": {},
   "outputs": [
    {
     "name": "stdout",
     "output_type": "stream",
     "text": [
      "(0.39000000000000001, 'video number of days published')\n"
     ]
    },
    {
     "data": {
      "image/png": "[encoded data removed]",
      "text/plain": [
       "<matplotlib.figure.Figure at 0x11120ec88>"
      ]
     },
     "metadata": {},
     "output_type": "display_data"
    }
   ],
   "source": [
    "rfr_per_feature(logit_video_days_old, logit_video_viewcount, name=\"video number of days published\")\n",
    "plt.scatter(logit_video_days_old, logit_video_viewcount, alpha=1)\n",
    "plt.show()"
   ]
  },
  {
   "cell_type": "markdown",
   "metadata": {},
   "source": [
    "### Channel Viewcount"
   ]
  },
  {
   "cell_type": "markdown",
   "metadata": {},
   "source": [
    "We suspect that the channel the video belongs to could also affect its view count. For instance, a video from a channel with more total view count would have higher view count."
   ]
  },
  {
   "cell_type": "code",
   "execution_count": 26,
   "metadata": {},
   "outputs": [
    {
     "data": {
      "image/png": "[encoded data removed]",
      "text/plain": [
       "<matplotlib.figure.Figure at 0x11193e0f0>"
      ]
     },
     "metadata": {},
     "output_type": "display_data"
    },
    {
     "data": {
      "image/png": "[encoded data removed]",
      "text/plain": [
       "<matplotlib.figure.Figure at 0x1145187f0>"
      ]
     },
     "metadata": {},
     "output_type": "display_data"
    }
   ],
   "source": [
    "logit_channel_viewcount = series_tologit(df['channel.viewcount'])\n",
    "series_probplot(logit_channel_viewcount.dropna())"
   ]
  },
  {
   "cell_type": "markdown",
   "metadata": {},
   "source": [
    "The R² score of channel viewcount is relatively high among the features as you can see below. "
   ]
  },
  {
   "cell_type": "code",
   "execution_count": 27,
   "metadata": {},
   "outputs": [
    {
     "name": "stdout",
     "output_type": "stream",
     "text": [
      "(0.23000000000000001, 'channel view count')\n"
     ]
    }
   ],
   "source": [
    "rfr_per_feature(logit_channel_viewcount, logit_video_viewcount, name=\"channel view count\")"
   ]
  },
  {
   "cell_type": "markdown",
   "metadata": {},
   "source": [
    "### Channel Subscribe"
   ]
  },
  {
   "cell_type": "markdown",
   "metadata": {},
   "source": [
    "It is also possible if there are more people subscribe to a channel, more people would have chance to view videos under this channel. Therefore, we would like to investigate the relation between channel subscribe and video view count. "
   ]
  },
  {
   "cell_type": "code",
   "execution_count": 28,
   "metadata": {},
   "outputs": [
    {
     "data": {
      "image/png": "[encoded data removed]",
      "text/plain": [
       "<matplotlib.figure.Figure at 0x1145e6d68>"
      ]
     },
     "metadata": {},
     "output_type": "display_data"
    },
    {
     "data": {
      "image/png": "[encoded data removed]",
      "text/plain": [
       "<matplotlib.figure.Figure at 0x1145f58d0>"
      ]
     },
     "metadata": {},
     "output_type": "display_data"
    }
   ],
   "source": [
    "logit_channel_subscribe = series_tologit(df['channel.subscribe'])\n",
    "series_probplot(logit_channel_subscribe.dropna())"
   ]
  },
  {
   "cell_type": "markdown",
   "metadata": {},
   "source": [
    "The relevance seems not especially high comparing to other features but does show some correlation with video view count. "
   ]
  },
  {
   "cell_type": "code",
   "execution_count": 29,
   "metadata": {},
   "outputs": [
    {
     "name": "stdout",
     "output_type": "stream",
     "text": [
      "(0.161, 'channel subscribe')\n"
     ]
    }
   ],
   "source": [
    "rfr_per_feature(logit_channel_subscribe, logit_video_viewcount, name=\"channel subscribe\")"
   ]
  },
  {
   "cell_type": "markdown",
   "metadata": {},
   "source": [
    "### Channel Video Count"
   ]
  },
  {
   "cell_type": "markdown",
   "metadata": {},
   "source": [
    "Since a channel with more videos may have more chance to advertise its other video to the audiences, we take channel video count into consideration as well. "
   ]
  },
  {
   "cell_type": "code",
   "execution_count": 30,
   "metadata": {},
   "outputs": [
    {
     "data": {
      "image/png": "[encoded data removed]",
      "text/plain": [
       "<matplotlib.figure.Figure at 0x110099b38>"
      ]
     },
     "metadata": {},
     "output_type": "display_data"
    },
    {
     "data": {
      "image/png": "[encoded data removed]",
      "text/plain": [
       "<matplotlib.figure.Figure at 0x110c62470>"
      ]
     },
     "metadata": {},
     "output_type": "display_data"
    }
   ],
   "source": [
    "logit_channel_videocount = series_tologit(df['channel.videocount'])\n",
    "series_probplot(logit_channel_videocount.dropna())"
   ]
  },
  {
   "cell_type": "markdown",
   "metadata": {},
   "source": [
    "The relevance seems not especially high comparing to other features but does show some correlation with video view count."
   ]
  },
  {
   "cell_type": "code",
   "execution_count": 31,
   "metadata": {},
   "outputs": [
    {
     "name": "stdout",
     "output_type": "stream",
     "text": [
      "(0.13800000000000001, 'channel video count')\n"
     ]
    }
   ],
   "source": [
    "rfr_per_feature(logit_channel_videocount, logit_video_viewcount, name=\"channel video count\")"
   ]
  },
  {
   "cell_type": "markdown",
   "metadata": {},
   "source": [
    "### Channel Comment Count"
   ]
  },
  {
   "cell_type": "markdown",
   "metadata": {},
   "source": [
    "Comment count may also reflect the popularity of a channel so we also take this into account. "
   ]
  },
  {
   "cell_type": "code",
   "execution_count": 32,
   "metadata": {},
   "outputs": [
    {
     "data": {
      "image/png": "[encoded data removed]",
      "text/plain": [
       "<matplotlib.figure.Figure at 0x1111f3198>"
      ]
     },
     "metadata": {},
     "output_type": "display_data"
    },
    {
     "data": {
      "image/png": "[encoded data removed]",
      "text/plain": [
       "<matplotlib.figure.Figure at 0x1112b1978>"
      ]
     },
     "metadata": {},
     "output_type": "display_data"
    }
   ],
   "source": [
    "logit_channel_commentcount = series_tologit(df['channel.commentcount'])\n",
    "series_probplot(logit_channel_commentcount.dropna())"
   ]
  },
  {
   "cell_type": "markdown",
   "metadata": {},
   "source": [
    "The R² score of this feature however it especially low and seems not a good indicator for our target attribute. "
   ]
  },
  {
   "cell_type": "code",
   "execution_count": 33,
   "metadata": {},
   "outputs": [
    {
     "name": "stdout",
     "output_type": "stream",
     "text": [
      "(0.092999999999999999, 'channel comment count')\n"
     ]
    }
   ],
   "source": [
    "rfr_per_feature(logit_channel_commentcount, logit_video_viewcount, name=\"channel comment count\")"
   ]
  },
  {
   "cell_type": "markdown",
   "metadata": {},
   "source": [
    "### Video Category ID"
   ]
  },
  {
   "cell_type": "markdown",
   "metadata": {},
   "source": [
    "The category the video belongs to may also indicate its view count to some extent. Below is a figure showing the average view count for videos in each category. It is obvious there are some categories which shows very high average view count comparing to other categories. "
   ]
  },
  {
   "cell_type": "code",
   "execution_count": 34,
   "metadata": {},
   "outputs": [
    {
     "data": {
      "image/png": "[encoded data removed]",
      "text/plain": [
       "<matplotlib.figure.Figure at 0x110c62908>"
      ]
     },
     "metadata": {},
     "output_type": "display_data"
    }
   ],
   "source": [
    "df.groupby('video.categoryId')['video.viewCount'].mean().plot('bar')\n",
    "plt.show()"
   ]
  },
  {
   "cell_type": "code",
   "execution_count": 35,
   "metadata": {},
   "outputs": [],
   "source": [
    "categoryID = pd.get_dummies(df['video.categoryId'])\n",
    "new_name_list = ['categoryID.'+str(x) for x in categoryID.columns.values]\n",
    "categoryID.columns = new_name_list"
   ]
  },
  {
   "cell_type": "markdown",
   "metadata": {},
   "source": [
    "The R² score also demonstrate this could be a feature which reflects the popularity of the video. "
   ]
  },
  {
   "cell_type": "code",
   "execution_count": 36,
   "metadata": {},
   "outputs": [
    {
     "name": "stdout",
     "output_type": "stream",
     "text": [
      "(0.26600000000000001, 'Video Category')\n"
     ]
    }
   ],
   "source": [
    "rfr_per_feature(categoryID, logit_video_viewcount, name=\"Video Category\")"
   ]
  },
  {
   "cell_type": "markdown",
   "metadata": {},
   "source": [
    "### Video Tags TFIDF"
   ]
  },
  {
   "cell_type": "markdown",
   "metadata": {},
   "source": [
    "Every video contains some tags which give clues to its content. We use TFIDF to process video tags to create features. "
   ]
  },
  {
   "cell_type": "code",
   "execution_count": 37,
   "metadata": {},
   "outputs": [],
   "source": [
    "from sklearn.feature_extraction.text import TfidfVectorizer\n",
    "tfidf = TfidfVectorizer(min_df=10, max_df=0.3, ngram_range=(1,3))\n",
    "\n",
    "tag_tfidf = tfidf.fit_transform(df[\"video.tags\"]).toarray()"
   ]
  },
  {
   "cell_type": "markdown",
   "metadata": {},
   "source": [
    "Yet, the relevance for these features seem to be low and would not be good indicator. "
   ]
  },
  {
   "cell_type": "code",
   "execution_count": 38,
   "metadata": {},
   "outputs": [
    {
     "name": "stdout",
     "output_type": "stream",
     "text": [
      "(0.016, 'Video Tags TFIDF')\n"
     ]
    }
   ],
   "source": [
    "df_tfidf = pd.DataFrame(tag_tfidf)\n",
    "rfr_per_feature(df_tfidf, logit_video_viewcount, name=\"Video Tags TFIDF\")"
   ]
  },
  {
   "cell_type": "markdown",
   "metadata": {},
   "source": [
    "### Video Title Length"
   ]
  },
  {
   "cell_type": "markdown",
   "metadata": {},
   "source": [
    "In this part, we will analyze whether the video title length will affect total view count of the video. We first process the data and count the length of video title. After that, we create the logit representation for video title length."
   ]
  },
  {
   "cell_type": "code",
   "execution_count": 39,
   "metadata": {},
   "outputs": [],
   "source": [
    "from collections import Counter\n",
    "count_dict = df[\"snippet.title\"].apply(lambda x: Counter(x.split(' ')))\n",
    "count_sum = [sum(x.values()) for x in count_dict]\n",
    "df[\"video_title_length\"] = count_sum"
   ]
  },
  {
   "cell_type": "code",
   "execution_count": 40,
   "metadata": {},
   "outputs": [
    {
     "data": {
      "image/png": "[encoded data removed]",
      "text/plain": [
       "<matplotlib.figure.Figure at 0x1a1cb41dd8>"
      ]
     },
     "metadata": {},
     "output_type": "display_data"
    },
    {
     "data": {
      "image/png": "[encoded data removed]",
      "text/plain": [
       "<matplotlib.figure.Figure at 0x1a1cfd8748>"
      ]
     },
     "metadata": {},
     "output_type": "display_data"
    }
   ],
   "source": [
    "logit_video_title_length = series_tologit(df[\"video_title_length\"])\n",
    "series_probplot(logit_video_title_length.dropna())"
   ]
  },
  {
   "cell_type": "markdown",
   "metadata": {},
   "source": [
    "Then we calculate the R² score for video title length. This score shows there are some correlation between total view counts and video title length, but the correlation is quite weak."
   ]
  },
  {
   "cell_type": "code",
   "execution_count": 41,
   "metadata": {},
   "outputs": [
    {
     "name": "stdout",
     "output_type": "stream",
     "text": [
      "(0.044999999999999998, 'video title length')\n"
     ]
    }
   ],
   "source": [
    "rfr_per_feature(logit_video_title_length, logit_video_viewcount, name=\"video title length\")"
   ]
  },
  {
   "cell_type": "markdown",
   "metadata": {},
   "source": [
    "### Video Definition (Higher resolution/lower resolution)"
   ]
  },
  {
   "cell_type": "markdown",
   "metadata": {},
   "source": [
    "In this part, we will analyze whether the video definition will affect total view count of the video. We process the data and get dummies of video definition. After that, we plot the relationship of video definition and video view count."
   ]
  },
  {
   "cell_type": "code",
   "execution_count": 42,
   "metadata": {},
   "outputs": [
    {
     "data": {
      "image/png": "[encoded data removed]",
      "text/plain": [
       "<matplotlib.figure.Figure at 0x1112b1080>"
      ]
     },
     "metadata": {},
     "output_type": "display_data"
    }
   ],
   "source": [
    "df.groupby('video.def')['video.viewCount'].mean().plot('bar')\n",
    "plt.show()"
   ]
  },
  {
   "cell_type": "code",
   "execution_count": 43,
   "metadata": {},
   "outputs": [],
   "source": [
    "df_videodef = pd.get_dummies(df[\"video.def\"])"
   ]
  },
  {
   "cell_type": "markdown",
   "metadata": {},
   "source": [
    "Then we calculate R² score for video definition. The score shows the relationship between video definition and video view count is weak."
   ]
  },
  {
   "cell_type": "code",
   "execution_count": 44,
   "metadata": {},
   "outputs": [
    {
     "name": "stdout",
     "output_type": "stream",
     "text": [
      "(0.029000000000000001, 'video definition')\n"
     ]
    }
   ],
   "source": [
    "rfr_per_feature(df_videodef, logit_video_viewcount, name=\"video definition\")"
   ]
  },
  {
   "cell_type": "markdown",
   "metadata": {},
   "source": [
    "### Number of Tags in Title and Description"
   ]
  },
  {
   "cell_type": "markdown",
   "metadata": {},
   "source": [
    "In this part, we will analyze whether including key words, such as tags in video title and description will increase total view count of the video. We first start by processing the data and calculate the number of tags used in title and descriptions."
   ]
  },
  {
   "cell_type": "code",
   "execution_count": 45,
   "metadata": {},
   "outputs": [],
   "source": [
    "\"\"\"\n",
    "This function takes in list of video tags, notated as tags.\n",
    "Also it takes in a target, the target can either be the title or description of the video.\n",
    "It returns the count of the number of tags in video title/description.\n",
    "\"\"\"\n",
    "\n",
    "def tag_in_target(tags, target):\n",
    "    count = 0\n",
    "    for tag in tags:\n",
    "        if tag.lower() in target.lower():\n",
    "            count = count + 1\n",
    "        else:\n",
    "            continue\n",
    "    return count"
   ]
  },
  {
   "cell_type": "code",
   "execution_count": 46,
   "metadata": {},
   "outputs": [],
   "source": [
    "import ast\n",
    "\n",
    "no_tags_in_title_list = []\n",
    "no_tags_in_desc_list = []\n",
    "\n",
    "for idx, row in df.iterrows():\n",
    "    tags = row['video.tags']\n",
    "    tags = ast.literal_eval(tags)\n",
    "    title = row['snippet.title']\n",
    "    desc = row['snippet.description']\n",
    "    no_tags_in_title_list.append(tag_in_target(tags, title))\n",
    "    no_tags_in_desc_list.append(tag_in_target(tags, desc))\n",
    "df['no_tags_in_title'] = no_tags_in_title_list\n",
    "df['no_tags_in_desc'] = no_tags_in_desc_list"
   ]
  },
  {
   "cell_type": "code",
   "execution_count": 47,
   "metadata": {},
   "outputs": [
    {
     "data": {
      "image/png": "[encoded data removed]",
      "text/plain": [
       "<matplotlib.figure.Figure at 0x1a1e77f2e8>"
      ]
     },
     "metadata": {},
     "output_type": "display_data"
    },
    {
     "data": {
      "image/png": "[encoded data removed]",
      "text/plain": [
       "<matplotlib.figure.Figure at 0x1100a8e80>"
      ]
     },
     "metadata": {},
     "output_type": "display_data"
    }
   ],
   "source": [
    "logit_tags_in_title = series_tologit(df['no_tags_in_title'])\n",
    "logit_tags_in_desc = series_tologit(df['no_tags_in_desc'])"
   ]
  },
  {
   "cell_type": "markdown",
   "metadata": {},
   "source": [
    "The R² score shows the use of tag words in title and descriptions will not reflect the total view count of the videos."
   ]
  },
  {
   "cell_type": "code",
   "execution_count": 48,
   "metadata": {},
   "outputs": [
    {
     "name": "stdout",
     "output_type": "stream",
     "text": [
      "(0.012, 'no of tags in title')\n",
      "(0.0030000000000000001, 'no of tags in desc')\n"
     ]
    }
   ],
   "source": [
    "rfr_per_feature(logit_tags_in_title, logit_video_viewcount, name=\"no of tags in title\")\n",
    "rfr_per_feature(logit_tags_in_desc, logit_video_viewcount, name=\"no of tags in desc\")"
   ]
  },
  {
   "cell_type": "markdown",
   "metadata": {},
   "source": [
    "### Number of http links in description"
   ]
  },
  {
   "cell_type": "markdown",
   "metadata": {},
   "source": [
    "Here we will analyze whether the number of http links in description will affect total view count of the video. We first process the data and count the number of http links in description. After that, we create the logit representation for this feature."
   ]
  },
  {
   "cell_type": "code",
   "execution_count": 49,
   "metadata": {},
   "outputs": [],
   "source": [
    "df[\"http_in_descp\"] = df[\"snippet.description\"].apply(lambda x: x.count(\"://\"))"
   ]
  },
  {
   "cell_type": "code",
   "execution_count": 50,
   "metadata": {},
   "outputs": [
    {
     "data": {
      "image/png": "[encoded data removed]",
      "text/plain": [
       "<matplotlib.figure.Figure at 0x1a1e6e6198>"
      ]
     },
     "metadata": {},
     "output_type": "display_data"
    },
    {
     "data": {
      "image/png": "[encoded data removed]",
      "text/plain": [
       "<matplotlib.figure.Figure at 0x1a207c3e80>"
      ]
     },
     "metadata": {},
     "output_type": "display_data"
    }
   ],
   "source": [
    "logit_http_in_descp = series_tologit(df[\"http_in_descp\"])\n",
    "series_probplot(logit_http_in_descp.dropna())"
   ]
  },
  {
   "cell_type": "markdown",
   "metadata": {},
   "source": [
    "The R² score shows this feature doesn't have much relationship with video view count."
   ]
  },
  {
   "cell_type": "code",
   "execution_count": 51,
   "metadata": {},
   "outputs": [
    {
     "name": "stdout",
     "output_type": "stream",
     "text": [
      "(0.0030000000000000001, 'number of http links in description')\n"
     ]
    }
   ],
   "source": [
    "rfr_per_feature(logit_http_in_descp, logit_video_viewcount, name=\"number of http links in description\")"
   ]
  },
  {
   "cell_type": "markdown",
   "metadata": {},
   "source": [
    "<a id=\"section_Three\"></a>\n",
    "# Feature Selection"
   ]
  },
  {
   "cell_type": "markdown",
   "metadata": {},
   "source": [
    "After evaluating each feature using RandomForestRegressor, we can see from the R² scores some features are more likely to be related to YouTube video popularity. However, different features may have effects on each other, so we cannot use only one feature to describe YouTube video popularity. In this section, we will take multiple features into consideration and select several features that can be used to predict YouTube video popularity."
   ]
  },
  {
   "cell_type": "code",
   "execution_count": 52,
   "metadata": {},
   "outputs": [
    {
     "name": "stdout",
     "output_type": "stream",
     "text": [
      "    channel.subscribe  channel.viewcount  channel.commentcount  \\\n",
      "4           -3.142453          -2.825046             -6.604039   \n",
      "5           11.651608          -0.075228             -1.325453   \n",
      "10          -2.552912          -2.099709             -4.689085   \n",
      "14          -4.256366          -5.171413            -13.442724   \n",
      "15          -2.595119          -2.204314            -10.041485   \n",
      "\n",
      "    video.lengthInSec  no_of_days_published  channel.videocount  \\\n",
      "4           -6.047430              1.456621          -10.397139   \n",
      "5           -4.706112             -7.773805           -4.306132   \n",
      "10          -4.410146             -7.773805           -3.771139   \n",
      "14          -3.443111             -3.510680           -8.057454   \n",
      "15          -5.005250             -7.773805           -4.850567   \n",
      "\n",
      "    video_title_length  http_in_descp  no_tags_in_title  no_tags_in_desc  \\\n",
      "4            -0.762140      -0.405465         -0.980829        -1.832581   \n",
      "5            -1.845827       0.405465         -3.044522        -3.332205   \n",
      "10           -0.182322      -1.386294         -1.845827        -3.332205   \n",
      "14           -0.367725      -1.386294         -3.044522        -3.332205   \n",
      "15           -0.559616      -1.386294         -2.302585        -1.343735   \n",
      "\n",
      "    ...   6295  6296  6297  6298  6299  6300  6301  6302  6303  6304  \n",
      "4   ...    0.0   0.0   0.0   0.0   0.0   0.0   0.0   0.0   0.0   0.0  \n",
      "5   ...    0.0   0.0   0.0   0.0   0.0   0.0   0.0   0.0   0.0   0.0  \n",
      "10  ...    0.0   0.0   0.0   0.0   0.0   0.0   0.0   0.0   0.0   0.0  \n",
      "14  ...    0.0   0.0   0.0   0.0   0.0   0.0   0.0   0.0   0.0   0.0  \n",
      "15  ...    0.0   0.0   0.0   0.0   0.0   0.0   0.0   0.0   0.0   0.0  \n",
      "\n",
      "[5 rows x 6335 columns]\n"
     ]
    }
   ],
   "source": [
    "col_list = [logit_channel_subscribe, logit_channel_viewcount, logit_channel_commentcount, \n",
    "            logit_video_duration, logit_video_days_old, logit_channel_videocount,\n",
    "            logit_video_title_length, logit_http_in_descp, logit_tags_in_title,\n",
    "            logit_tags_in_desc, categoryID, df_videodef, df_tfidf, logit_video_viewcount]\n",
    "\n",
    "new_df = pd.concat(col_list, axis=1)\n",
    "new_df = new_df.dropna()\n",
    "target = new_df['video.viewCount']\n",
    "features_array = new_df.drop(['video.viewCount'], axis=1)\n",
    "print(features_array.head(5))\n",
    "names = features_array.columns.values\n",
    "features_array = np.array(features_array)\n",
    "target = np.array(target)"
   ]
  },
  {
   "cell_type": "markdown",
   "metadata": {},
   "source": [
    "After basic processing of the features, we will try three different regressors, RandomForestRegressor, GradientBoostingRegressor, and AdaBoostRegressor, on all the features. The higher the R² score is, the more accurate the regressor is. So, after plenty of experiments, we choose the one with highest R² score (0.6), which is GradientBoostingRegressor.\n",
    "\n",
    "Compared to RandomForestRegressor and AdaBoostRegressor, GradientBoostingRegressor can handle data of mixed types, in this case, we have two different types of data (continuous and categorical), in addition, this regressor is robust to outliers in output space."
   ]
  },
  {
   "cell_type": "code",
   "execution_count": 54,
   "metadata": {},
   "outputs": [
    {
     "name": "stdout",
     "output_type": "stream",
     "text": [
      "[(0.55200000000000005, 'all features included, model: random forest regression')]\n"
     ]
    }
   ],
   "source": [
    "rf = RandomForestRegressor(random_state=1, n_estimators=20, max_depth=4)\n",
    "scores = []\n",
    "score = cross_val_score(rf, features_array, target, scoring='r2', cv=ShuffleSplit(len(features_array), 10, .1))\n",
    "scores.append((round(np.mean(score), 3), \"all features included, model: random forest regression\"))\n",
    "print(sorted(scores, reverse=True))"
   ]
  },
  {
   "cell_type": "code",
   "execution_count": 55,
   "metadata": {},
   "outputs": [
    {
     "name": "stdout",
     "output_type": "stream",
     "text": [
      "[(0.60899999999999999, 'all features included, model: gradient boosting regression')]\n"
     ]
    }
   ],
   "source": [
    "from sklearn.ensemble import GradientBoostingRegressor\n",
    "\n",
    "gbr = GradientBoostingRegressor(random_state=1, n_estimators=20, max_depth=4)\n",
    "scores = []\n",
    "score = cross_val_score(gbr, features_array, target, scoring='r2', cv=ShuffleSplit(len(features_array), 10, .1))\n",
    "scores.append((round(np.mean(score), 3), \"all features included, model: gradient boosting regression\"))\n",
    "print(sorted(scores, reverse=True))"
   ]
  },
  {
   "cell_type": "code",
   "execution_count": 56,
   "metadata": {},
   "outputs": [
    {
     "name": "stdout",
     "output_type": "stream",
     "text": [
      "[(0.58399999999999996, 'all features included, model: ada boost regression')]\n"
     ]
    }
   ],
   "source": [
    "from sklearn.ensemble import AdaBoostRegressor\n",
    "\n",
    "abr = AdaBoostRegressor(random_state=1, n_estimators=20)\n",
    "scores = []\n",
    "score = cross_val_score(abr, features_array, target, scoring='r2', cv=ShuffleSplit(len(features_array), 10, .1))\n",
    "scores.append((round(np.mean(score), 3), \"all features included, model: ada boost regression\"))\n",
    "print(sorted(scores, reverse=True))"
   ]
  },
  {
   "cell_type": "markdown",
   "metadata": {},
   "source": [
    "After determining the regressor, we’ll perform four tests for feature selection.\n",
    "\n",
    "Test 1: Remove categoryID, df_videodef, df_tfidf from col_list and call feature_importances function on the regressor. The results show that the five most important features are no_of_days_published, channel.viewcount, channel.videocount, video.lengthInSec, and channel.subscribe."
   ]
  },
  {
   "cell_type": "code",
   "execution_count": 57,
   "metadata": {},
   "outputs": [
    {
     "name": "stdout",
     "output_type": "stream",
     "text": [
      "    channel.subscribe  channel.viewcount  channel.commentcount  \\\n",
      "4           -3.142453          -2.825046             -6.604039   \n",
      "5           11.651608          -0.075228             -1.325453   \n",
      "10          -2.552912          -2.099709             -4.689085   \n",
      "14          -4.256366          -5.171413            -13.442724   \n",
      "15          -2.595119          -2.204314            -10.041485   \n",
      "\n",
      "    video.lengthInSec  no_of_days_published  channel.videocount  \\\n",
      "4           -6.047430              1.456621          -10.397139   \n",
      "5           -4.706112             -7.773805           -4.306132   \n",
      "10          -4.410146             -7.773805           -3.771139   \n",
      "14          -3.443111             -3.510680           -8.057454   \n",
      "15          -5.005250             -7.773805           -4.850567   \n",
      "\n",
      "    video_title_length  http_in_descp  no_tags_in_title  no_tags_in_desc  \n",
      "4            -0.762140      -0.405465         -0.980829        -1.832581  \n",
      "5            -1.845827       0.405465         -3.044522        -3.332205  \n",
      "10           -0.182322      -1.386294         -1.845827        -3.332205  \n",
      "14           -0.367725      -1.386294         -3.044522        -3.332205  \n",
      "15           -0.559616      -1.386294         -2.302585        -1.343735  \n"
     ]
    }
   ],
   "source": [
    "\"\"\"\n",
    "The sklearn feature_importances_ function works best for real value features, so we exclude three\n",
    "discontinuous features: categoryID, df_videodef, df_tfidf in our analysis.\n",
    "\"\"\"\n",
    "\n",
    "col_list = [logit_channel_subscribe, logit_channel_viewcount, logit_channel_commentcount, \n",
    "            logit_video_duration, logit_video_days_old, logit_channel_videocount,\n",
    "            logit_video_title_length, logit_http_in_descp, logit_tags_in_title,\n",
    "            logit_tags_in_desc, logit_video_viewcount]\n",
    "\n",
    "new_df = pd.concat(col_list, axis=1)\n",
    "new_df = new_df.dropna()\n",
    "target = new_df['video.viewCount']\n",
    "features_array = new_df.drop(['video.viewCount'], axis=1)\n",
    "print(features_array.head(5))\n",
    "names = features_array.columns.values\n",
    "features_array = np.array(features_array)\n",
    "target = np.array(target)"
   ]
  },
  {
   "cell_type": "code",
   "execution_count": 63,
   "metadata": {},
   "outputs": [
    {
     "data": {
      "image/png": "[encoded data removed]",
      "text/plain": [
       "<matplotlib.figure.Figure at 0x1106f8908>"
      ]
     },
     "metadata": {},
     "output_type": "display_data"
    }
   ],
   "source": [
    "gbr = GradientBoostingRegressor(random_state=1, n_estimators=20, max_depth=4)\n",
    "scores = []\n",
    "\n",
    "gbr.fit(features_array, target)\n",
    "importance = gbr.feature_importances_\n",
    "\n",
    "labels = list(new_df.columns.values)\n",
    "y = importance\n",
    "dummy_x = [0, 1, 2, 3, 4, 5, 6, 7, 8, 9]\n",
    "plt.bar(dummy_x, y, align='center')\n",
    "plt.xticks(dummy_x, labels[:-1])\n",
    "plt.xticks(rotation=90)\n",
    "plt.show()"
   ]
  },
  {
   "cell_type": "markdown",
   "metadata": {},
   "source": [
    "Test 2: Exclude the five important features obtained from Test 1. After removing the five important features, the R² score decrease from 0.6 to 0.26, which means the removed features are very important for describing video popularity."
   ]
  },
  {
   "cell_type": "code",
   "execution_count": 64,
   "metadata": {},
   "outputs": [
    {
     "name": "stdout",
     "output_type": "stream",
     "text": [
      "    channel.commentcount  video_title_length  http_in_descp  no_tags_in_title  \\\n",
      "4              -6.604039           -0.762140      -0.405465         -0.980829   \n",
      "5              -1.325453           -1.845827       0.405465         -3.044522   \n",
      "10             -4.689085           -0.182322      -1.386294         -1.845827   \n",
      "14            -13.442724           -0.367725      -1.386294         -3.044522   \n",
      "15            -10.041485           -0.559616      -1.386294         -2.302585   \n",
      "\n",
      "    no_tags_in_desc  categoryID.1  categoryID.2  categoryID.10  categoryID.15  \\\n",
      "4         -1.832581           1.0           0.0            0.0            0.0   \n",
      "5         -3.332205           0.0           0.0            0.0            0.0   \n",
      "10        -3.332205           0.0           0.0            0.0            0.0   \n",
      "14        -3.332205           1.0           0.0            0.0            0.0   \n",
      "15        -1.343735           0.0           0.0            0.0            0.0   \n",
      "\n",
      "    categoryID.17  ...   6295  6296  6297  6298  6299  6300  6301  6302  6303  \\\n",
      "4             0.0  ...    0.0   0.0   0.0   0.0   0.0   0.0   0.0   0.0   0.0   \n",
      "5             0.0  ...    0.0   0.0   0.0   0.0   0.0   0.0   0.0   0.0   0.0   \n",
      "10            0.0  ...    0.0   0.0   0.0   0.0   0.0   0.0   0.0   0.0   0.0   \n",
      "14            0.0  ...    0.0   0.0   0.0   0.0   0.0   0.0   0.0   0.0   0.0   \n",
      "15            0.0  ...    0.0   0.0   0.0   0.0   0.0   0.0   0.0   0.0   0.0   \n",
      "\n",
      "    6304  \n",
      "4    0.0  \n",
      "5    0.0  \n",
      "10   0.0  \n",
      "14   0.0  \n",
      "15   0.0  \n",
      "\n",
      "[5 rows x 6330 columns]\n"
     ]
    }
   ],
   "source": [
    "col_list = [logit_channel_commentcount, logit_video_title_length, logit_http_in_descp, logit_tags_in_title,\n",
    "            logit_tags_in_desc, categoryID, df_videodef, df_tfidf, logit_video_viewcount]\n",
    "\n",
    "test_df = pd.concat(col_list, axis=1)\n",
    "test_df = test_df.dropna()\n",
    "target_test = test_df['video.viewCount']\n",
    "features_test_array = test_df.drop(['video.viewCount'], axis=1)\n",
    "print(features_test_array.head(5))\n",
    "names = features_test_array.columns.values\n",
    "features_test_array = np.array(features_test_array)\n",
    "target_test = np.array(target_test)"
   ]
  },
  {
   "cell_type": "code",
   "execution_count": 65,
   "metadata": {},
   "outputs": [
    {
     "name": "stdout",
     "output_type": "stream",
     "text": [
      "[(0.26700000000000002, 'all important features excluded')]\n"
     ]
    }
   ],
   "source": [
    "rf = GradientBoostingRegressor(random_state=1, n_estimators=20, max_depth=4)\n",
    "scores = []\n",
    "score = cross_val_score(rf, features_test_array, target_test, \n",
    "                        scoring='r2', cv=ShuffleSplit(len(features_test_array), 10, .1))\n",
    "scores.append((round(np.mean(score), 3), \"all important features excluded\"))\n",
    "print(sorted(scores, reverse=True))"
   ]
  },
  {
   "cell_type": "markdown",
   "metadata": {},
   "source": [
    "Test 3: Only retain five important features in col_list. The R² score is 0.70, which is higher than 0.6, also supports the conclusion in Test 1."
   ]
  },
  {
   "cell_type": "code",
   "execution_count": 66,
   "metadata": {},
   "outputs": [
    {
     "name": "stdout",
     "output_type": "stream",
     "text": [
      "   channel.subscribe  channel.viewcount  video.lengthInSec  \\\n",
      "1          -4.535904          -3.819152          -6.648553   \n",
      "4          -3.142453          -2.825046          -6.047430   \n",
      "5          11.651608          -0.075228          -4.706112   \n",
      "7          -3.297643          -2.834816          -5.937536   \n",
      "8          -3.521350          -4.703843          -5.884188   \n",
      "\n",
      "   no_of_days_published  channel.videocount  \n",
      "1             -8.467162           -5.395430  \n",
      "4              1.456621          -10.397139  \n",
      "5             -7.773805           -4.306132  \n",
      "7              0.383440           -5.596643  \n",
      "8             -7.773805           -7.059652  \n"
     ]
    }
   ],
   "source": [
    "col_list = [logit_channel_subscribe, logit_channel_viewcount, logit_video_duration,\n",
    "            logit_video_days_old, logit_channel_videocount, logit_video_viewcount]\n",
    "\n",
    "test_df = pd.concat(col_list, axis=1)\n",
    "test_df = test_df.dropna()\n",
    "target_test = test_df['video.viewCount']\n",
    "features_test_array = test_df.drop(['video.viewCount'], axis=1)\n",
    "print(features_test_array.head(5))\n",
    "names = features_test_array.columns.values\n",
    "features_test_array = np.array(features_test_array)\n",
    "target_test = np.array(target_test)"
   ]
  },
  {
   "cell_type": "code",
   "execution_count": 67,
   "metadata": {},
   "outputs": [
    {
     "name": "stdout",
     "output_type": "stream",
     "text": [
      "[(0.70099999999999996, 'five important features included')]\n"
     ]
    }
   ],
   "source": [
    "rf = GradientBoostingRegressor(random_state=1, n_estimators=20, max_depth=4)\n",
    "scores = []\n",
    "score = cross_val_score(rf, features_test_array, target_test, \n",
    "                        scoring='r2', cv=ShuffleSplit(len(features_test_array), 10, .1))\n",
    "scores.append((round(np.mean(score), 3), \"five important features included\"))\n",
    "print(sorted(scores, reverse=True))"
   ]
  },
  {
   "cell_type": "markdown",
   "metadata": {},
   "source": [
    "Test 4: We exclude the three discontinuous (categorical) features in col_list. The R² score is 0.59 (close to 0.6), which means these three removed features are not important in describing video popularity."
   ]
  },
  {
   "cell_type": "code",
   "execution_count": 70,
   "metadata": {},
   "outputs": [
    {
     "name": "stdout",
     "output_type": "stream",
     "text": [
      "    channel.subscribe  channel.viewcount  channel.commentcount  \\\n",
      "4           -3.142453          -2.825046             -6.604039   \n",
      "5           11.651608          -0.075228             -1.325453   \n",
      "10          -2.552912          -2.099709             -4.689085   \n",
      "14          -4.256366          -5.171413            -13.442724   \n",
      "15          -2.595119          -2.204314            -10.041485   \n",
      "\n",
      "    video.lengthInSec  no_of_days_published  channel.videocount  \\\n",
      "4           -6.047430              1.456621          -10.397139   \n",
      "5           -4.706112             -7.773805           -4.306132   \n",
      "10          -4.410146             -7.773805           -3.771139   \n",
      "14          -3.443111             -3.510680           -8.057454   \n",
      "15          -5.005250             -7.773805           -4.850567   \n",
      "\n",
      "    video_title_length  http_in_descp  no_tags_in_title  no_tags_in_desc  \n",
      "4            -0.762140      -0.405465         -0.980829        -1.832581  \n",
      "5            -1.845827       0.405465         -3.044522        -3.332205  \n",
      "10           -0.182322      -1.386294         -1.845827        -3.332205  \n",
      "14           -0.367725      -1.386294         -3.044522        -3.332205  \n",
      "15           -0.559616      -1.386294         -2.302585        -1.343735  \n"
     ]
    }
   ],
   "source": [
    "col_list = [logit_channel_subscribe, logit_channel_viewcount, logit_channel_commentcount, \n",
    "            logit_video_duration, logit_video_days_old, logit_channel_videocount,\n",
    "            logit_video_title_length, logit_http_in_descp, logit_tags_in_title,\n",
    "            logit_tags_in_desc, logit_video_viewcount]\n",
    "\n",
    "incontinuous_df = pd.concat(col_list, axis=1)\n",
    "incontinuous_df = incontinuous_df.dropna()\n",
    "target_test = incontinuous_df['video.viewCount']\n",
    "features_test_array = incontinuous_df.drop(['video.viewCount'], axis=1)\n",
    "print(features_test_array.head(5))\n",
    "names = features_test_array.columns.values\n",
    "features_test_array = np.array(features_test_array)\n",
    "target_test = np.array(target_test)"
   ]
  },
  {
   "cell_type": "code",
   "execution_count": 71,
   "metadata": {},
   "outputs": [
    {
     "name": "stdout",
     "output_type": "stream",
     "text": [
      "[(0.59799999999999998, 'only three incontinuous features included')]\n"
     ]
    }
   ],
   "source": [
    "rf = GradientBoostingRegressor(random_state=1, n_estimators=20, max_depth=4)\n",
    "scores = []\n",
    "score = cross_val_score(rf, features_test_array, target_test, \n",
    "                        scoring='r2', cv=ShuffleSplit(len(features_test_array), 10, .1))\n",
    "scores.append((round(np.mean(score), 3), \"only three incontinuous features included\"))\n",
    "print(sorted(scores, reverse=True))"
   ]
  },
  {
   "cell_type": "markdown",
   "metadata": {},
   "source": [
    "As a result, the five features we choose are no_of_days_published, channel.viewcount, channel.videocount, video.lengthInSec, and channel.subscribe. The four tests above prove the importance of the five features on describing video popularity."
   ]
  },
  {
   "cell_type": "markdown",
   "metadata": {},
   "source": [
    "<a id=\"section_Four\"></a>\n",
    "# Prediction Results"
   ]
  },
  {
   "cell_type": "markdown",
   "metadata": {},
   "source": [
    "Here, we will use the five identified features to predict video popularity using the Gradient Boosting Regression model. First, we start from building up the features for our prediction."
   ]
  },
  {
   "cell_type": "code",
   "execution_count": 74,
   "metadata": {},
   "outputs": [
    {
     "name": "stdout",
     "output_type": "stream",
     "text": [
      "feature list\n",
      "[[ -4.53590386  -3.8191524   -6.64855268  -8.46716226  -5.39543028]\n",
      " [ -3.14245307  -2.82504642  -6.04742984   1.45662116 -10.39713904]\n",
      " [ 11.65160848  -0.0752279   -4.70611164  -7.77380479  -4.30613183]\n",
      " ..., \n",
      " [ -4.06040138  -4.13079279  -5.73478499  -0.8938837   -8.03363553]\n",
      " [ -0.96909452  -0.93810111  -4.69483676  -0.57583862  -2.83882572]\n",
      " [ -7.51500763  -9.61149922  -2.48576378  -3.40424285  -8.15883683]]\n",
      "target list\n",
      "[-9.74282463 -1.03999476 -7.43517162 ..., -5.49102663 -6.1503098\n",
      " -8.86864873]\n"
     ]
    }
   ],
   "source": [
    "col_list = [logit_channel_subscribe, logit_channel_viewcount, logit_video_duration,\n",
    "            logit_video_days_old, logit_channel_videocount, logit_video_viewcount]\n",
    "\n",
    "predict_df = pd.concat(col_list, axis=1)\n",
    "predict_df = predict_df.dropna()\n",
    "X = predict_df.drop(['video.viewCount'], axis=1).values\n",
    "print(\"feature list\")\n",
    "print(X)\n",
    "y = predict_df['video.viewCount'].values\n",
    "print(\"target list\")\n",
    "print(y)"
   ]
  },
  {
   "cell_type": "markdown",
   "metadata": {},
   "source": [
    "Next, we split our data into training dataset, cross validation dataset and test dataset to evaluate the model's prediction accuracy."
   ]
  },
  {
   "cell_type": "code",
   "execution_count": 75,
   "metadata": {},
   "outputs": [
    {
     "data": {
      "text/plain": [
       "GradientBoostingRegressor(alpha=0.9, criterion='friedman_mse', init=None,\n",
       "             learning_rate=0.1, loss='ls', max_depth=4, max_features=None,\n",
       "             max_leaf_nodes=None, min_impurity_decrease=0.0,\n",
       "             min_impurity_split=None, min_samples_leaf=1,\n",
       "             min_samples_split=2, min_weight_fraction_leaf=0.0,\n",
       "             n_estimators=20, presort='auto', random_state=1,\n",
       "             subsample=1.0, verbose=0, warm_start=False)"
      ]
     },
     "execution_count": 75,
     "metadata": {},
     "output_type": "execute_result"
    }
   ],
   "source": [
    "from sklearn.model_selection import train_test_split\n",
    "X_, X_test, y_, y_test = train_test_split(X, y, test_size = 0.1, random_state=0)\n",
    "X_train, X_cv, y_train, y_cv = train_test_split(X_, y_, test_size = 0.1, random_state=0)\n",
    "clf = GradientBoostingRegressor(random_state=1, n_estimators=20, max_depth=4)\n",
    "clf.fit(X_train, y_train)"
   ]
  },
  {
   "cell_type": "markdown",
   "metadata": {},
   "source": [
    "The mean square error for each dataset is listed as following. We compare the MSE with the baseline MSE, which simply use the mean of the video view count as an approximate estimation. From the following comparison, our model yields a consistently lower MSE than the baseline MSE in all cases. This shows our model is effective in predicting video popularity."
   ]
  },
  {
   "cell_type": "code",
   "execution_count": 76,
   "metadata": {},
   "outputs": [
    {
     "name": "stdout",
     "output_type": "stream",
     "text": [
      "Training MSE:  2.09164558006\n",
      "Baseline training MSE:  7.42120955181\n"
     ]
    }
   ],
   "source": [
    "print(\"Training MSE: \", np.mean((clf.predict(X_train) - y_train)**2))\n",
    "print(\"Baseline training MSE: \", np.mean((np.mean(y_train) - y_train)**2))"
   ]
  },
  {
   "cell_type": "code",
   "execution_count": 77,
   "metadata": {},
   "outputs": [
    {
     "name": "stdout",
     "output_type": "stream",
     "text": [
      "CV MSE:  2.45423097727\n",
      "Baseline CV MSE:  7.4584312167\n"
     ]
    }
   ],
   "source": [
    "print(\"CV MSE: \", np.mean((clf.predict(X_cv) - y_cv)**2))\n",
    "print(\"Baseline CV MSE: \", np.mean((np.mean(y_train) - y_cv)**2))"
   ]
  },
  {
   "cell_type": "code",
   "execution_count": 78,
   "metadata": {},
   "outputs": [
    {
     "name": "stdout",
     "output_type": "stream",
     "text": [
      "Test MSE:  2.21273776438\n",
      "Baseline Test MSE:  7.61472100165\n"
     ]
    }
   ],
   "source": [
    "print(\"Test MSE: \", np.mean((clf.predict(X_test) - y_test)**2))\n",
    "print(\"Baseline Test MSE: \", np.mean((np.mean(y_train) - y_test)**2))"
   ]
  },
  {
   "cell_type": "markdown",
   "metadata": {},
   "source": [
    "<a id=\"section_Five\"></a>\n",
    "# Conclusion"
   ]
  },
  {
   "cell_type": "markdown",
   "metadata": {},
   "source": [
    "In this project, we collect video information from YouTube API and use these data to analyze what features contribute most to video popularity. We analyze each feature one by one, which gives us an insight of each feature's contribution. Furthermore, we select GradientBoostingRegressor to identify what features are important to video popularity, and four tests are performed to prove that no_of_days_published, channel.viewcount, channel.videocount, video.lengthInSec, and channel.subscribe are the five most important features. At last, we make predictions using the five identified features and evaluate the results using MSE. And the results show that the model we choose, the features we identify are pretty effective in predicting video popularity."
   ]
  },
  {
   "cell_type": "markdown",
   "metadata": {},
   "source": [
    "<a id=\"section_Six\"></a>\n",
    "# References"
   ]
  },
  {
   "cell_type": "markdown",
   "metadata": {},
   "source": [
    "[YouTube Data API v3](https://developers.google.com/youtube/v3/getting-started) <br>\n",
    "[R² score](http://scikit-learn.org/stable/modules/model_evaluation.html#r2-score) <br>\n",
    "[Random Forest](https://towardsdatascience.com/the-random-forest-algorithm-d457d499ffcd) <br>\n",
    "[YouTube-Like-predictor](https://github.com/ayush1997/YouTube-Like-predictor) <br>\n",
    "[Selecting good features](http://blog.datadive.net/selecting-good-features-part-i-univariate-selection/)"
   ]
  }
 ],
 "metadata": {
  "kernelspec": {
   "display_name": "Python 3",
   "language": "python",
   "name": "python3"
  },
  "language_info": {
   "codemirror_mode": {
    "name": "ipython",
    "version": 3
   },
   "file_extension": ".py",
   "mimetype": "text/x-python",
   "name": "python",
   "nbconvert_exporter": "python",
   "pygments_lexer": "ipython3",
   "version": "3.5.4"
  }
 },
 "nbformat": 4,
 "nbformat_minor": 2
}
